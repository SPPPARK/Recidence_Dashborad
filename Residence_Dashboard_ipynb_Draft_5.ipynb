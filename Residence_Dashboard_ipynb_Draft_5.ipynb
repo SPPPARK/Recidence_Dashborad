{
  "nbformat": 4,
  "nbformat_minor": 0,
  "metadata": {
    "colab": {
      "provenance": [],
      "authorship_tag": "ABX9TyOZZsHHa5kCvgPNP/rVd4xp",
      "include_colab_link": true
    },
    "kernelspec": {
      "name": "python3",
      "display_name": "Python 3"
    },
    "language_info": {
      "name": "python"
    }
  },
  "cells": [
    {
      "cell_type": "markdown",
      "metadata": {
        "id": "view-in-github",
        "colab_type": "text"
      },
      "source": [
        "<a href=\"https://colab.research.google.com/github/SPPPARK/Recidence_Dashborad/blob/main/Residence_Dashboard_ipynb_Draft_5.ipynb\" target=\"_parent\"><img src=\"https://colab.research.google.com/assets/colab-badge.svg\" alt=\"Open In Colab\"/></a>"
      ]
    },
    {
      "cell_type": "markdown",
      "source": [
        "# 0 Install package"
      ],
      "metadata": {
        "id": "GeUkWhVnrN8I"
      }
    },
    {
      "cell_type": "code",
      "execution_count": 1,
      "metadata": {
        "colab": {
          "base_uri": "https://localhost:8080/"
        },
        "id": "FXkY7ha7vjtA",
        "outputId": "51e5f147-a56d-4774-a828-2ba7cde517d0"
      },
      "outputs": [
        {
          "output_type": "stream",
          "name": "stdout",
          "text": [
            "Collecting streamlit\n",
            "  Downloading streamlit-1.45.0-py3-none-any.whl.metadata (8.9 kB)\n",
            "Requirement already satisfied: pandas in /usr/local/lib/python3.11/dist-packages (2.2.2)\n",
            "Requirement already satisfied: geopandas in /usr/local/lib/python3.11/dist-packages (1.0.1)\n",
            "Requirement already satisfied: folium in /usr/local/lib/python3.11/dist-packages (0.19.5)\n",
            "Requirement already satisfied: branca in /usr/local/lib/python3.11/dist-packages (0.8.1)\n",
            "Requirement already satisfied: altair<6,>=4.0 in /usr/local/lib/python3.11/dist-packages (from streamlit) (5.5.0)\n",
            "Requirement already satisfied: blinker<2,>=1.5.0 in /usr/local/lib/python3.11/dist-packages (from streamlit) (1.9.0)\n",
            "Requirement already satisfied: cachetools<6,>=4.0 in /usr/local/lib/python3.11/dist-packages (from streamlit) (5.5.2)\n",
            "Requirement already satisfied: click<9,>=7.0 in /usr/local/lib/python3.11/dist-packages (from streamlit) (8.1.8)\n",
            "Requirement already satisfied: numpy<3,>=1.23 in /usr/local/lib/python3.11/dist-packages (from streamlit) (2.0.2)\n",
            "Requirement already satisfied: packaging<25,>=20 in /usr/local/lib/python3.11/dist-packages (from streamlit) (24.2)\n",
            "Requirement already satisfied: pillow<12,>=7.1.0 in /usr/local/lib/python3.11/dist-packages (from streamlit) (11.2.1)\n",
            "Requirement already satisfied: protobuf<7,>=3.20 in /usr/local/lib/python3.11/dist-packages (from streamlit) (5.29.4)\n",
            "Requirement already satisfied: pyarrow>=7.0 in /usr/local/lib/python3.11/dist-packages (from streamlit) (18.1.0)\n",
            "Requirement already satisfied: requests<3,>=2.27 in /usr/local/lib/python3.11/dist-packages (from streamlit) (2.32.3)\n",
            "Requirement already satisfied: tenacity<10,>=8.1.0 in /usr/local/lib/python3.11/dist-packages (from streamlit) (9.1.2)\n",
            "Requirement already satisfied: toml<2,>=0.10.1 in /usr/local/lib/python3.11/dist-packages (from streamlit) (0.10.2)\n",
            "Requirement already satisfied: typing-extensions<5,>=4.4.0 in /usr/local/lib/python3.11/dist-packages (from streamlit) (4.13.2)\n",
            "Collecting watchdog<7,>=2.1.5 (from streamlit)\n",
            "  Downloading watchdog-6.0.0-py3-none-manylinux2014_x86_64.whl.metadata (44 kB)\n",
            "\u001b[2K     \u001b[90m━━━━━━━━━━━━━━━━━━━━━━━━━━━━━━━━━━━━━━━━\u001b[0m \u001b[32m44.3/44.3 kB\u001b[0m \u001b[31m1.7 MB/s\u001b[0m eta \u001b[36m0:00:00\u001b[0m\n",
            "\u001b[?25hRequirement already satisfied: gitpython!=3.1.19,<4,>=3.0.7 in /usr/local/lib/python3.11/dist-packages (from streamlit) (3.1.44)\n",
            "Collecting pydeck<1,>=0.8.0b4 (from streamlit)\n",
            "  Downloading pydeck-0.9.1-py2.py3-none-any.whl.metadata (4.1 kB)\n",
            "Requirement already satisfied: tornado<7,>=6.0.3 in /usr/local/lib/python3.11/dist-packages (from streamlit) (6.4.2)\n",
            "Requirement already satisfied: python-dateutil>=2.8.2 in /usr/local/lib/python3.11/dist-packages (from pandas) (2.9.0.post0)\n",
            "Requirement already satisfied: pytz>=2020.1 in /usr/local/lib/python3.11/dist-packages (from pandas) (2025.2)\n",
            "Requirement already satisfied: tzdata>=2022.7 in /usr/local/lib/python3.11/dist-packages (from pandas) (2025.2)\n",
            "Requirement already satisfied: pyogrio>=0.7.2 in /usr/local/lib/python3.11/dist-packages (from geopandas) (0.10.0)\n",
            "Requirement already satisfied: pyproj>=3.3.0 in /usr/local/lib/python3.11/dist-packages (from geopandas) (3.7.1)\n",
            "Requirement already satisfied: shapely>=2.0.0 in /usr/local/lib/python3.11/dist-packages (from geopandas) (2.1.0)\n",
            "Requirement already satisfied: jinja2>=2.9 in /usr/local/lib/python3.11/dist-packages (from folium) (3.1.6)\n",
            "Requirement already satisfied: xyzservices in /usr/local/lib/python3.11/dist-packages (from folium) (2025.4.0)\n",
            "Requirement already satisfied: jsonschema>=3.0 in /usr/local/lib/python3.11/dist-packages (from altair<6,>=4.0->streamlit) (4.23.0)\n",
            "Requirement already satisfied: narwhals>=1.14.2 in /usr/local/lib/python3.11/dist-packages (from altair<6,>=4.0->streamlit) (1.37.1)\n",
            "Requirement already satisfied: gitdb<5,>=4.0.1 in /usr/local/lib/python3.11/dist-packages (from gitpython!=3.1.19,<4,>=3.0.7->streamlit) (4.0.12)\n",
            "Requirement already satisfied: MarkupSafe>=2.0 in /usr/local/lib/python3.11/dist-packages (from jinja2>=2.9->folium) (3.0.2)\n",
            "Requirement already satisfied: certifi in /usr/local/lib/python3.11/dist-packages (from pyogrio>=0.7.2->geopandas) (2025.4.26)\n",
            "Requirement already satisfied: six>=1.5 in /usr/local/lib/python3.11/dist-packages (from python-dateutil>=2.8.2->pandas) (1.17.0)\n",
            "Requirement already satisfied: charset-normalizer<4,>=2 in /usr/local/lib/python3.11/dist-packages (from requests<3,>=2.27->streamlit) (3.4.1)\n",
            "Requirement already satisfied: idna<4,>=2.5 in /usr/local/lib/python3.11/dist-packages (from requests<3,>=2.27->streamlit) (3.10)\n",
            "Requirement already satisfied: urllib3<3,>=1.21.1 in /usr/local/lib/python3.11/dist-packages (from requests<3,>=2.27->streamlit) (2.4.0)\n",
            "Requirement already satisfied: smmap<6,>=3.0.1 in /usr/local/lib/python3.11/dist-packages (from gitdb<5,>=4.0.1->gitpython!=3.1.19,<4,>=3.0.7->streamlit) (5.0.2)\n",
            "Requirement already satisfied: attrs>=22.2.0 in /usr/local/lib/python3.11/dist-packages (from jsonschema>=3.0->altair<6,>=4.0->streamlit) (25.3.0)\n",
            "Requirement already satisfied: jsonschema-specifications>=2023.03.6 in /usr/local/lib/python3.11/dist-packages (from jsonschema>=3.0->altair<6,>=4.0->streamlit) (2025.4.1)\n",
            "Requirement already satisfied: referencing>=0.28.4 in /usr/local/lib/python3.11/dist-packages (from jsonschema>=3.0->altair<6,>=4.0->streamlit) (0.36.2)\n",
            "Requirement already satisfied: rpds-py>=0.7.1 in /usr/local/lib/python3.11/dist-packages (from jsonschema>=3.0->altair<6,>=4.0->streamlit) (0.24.0)\n",
            "Downloading streamlit-1.45.0-py3-none-any.whl (9.9 MB)\n",
            "\u001b[2K   \u001b[90m━━━━━━━━━━━━━━━━━━━━━━━━━━━━━━━━━━━━━━━━\u001b[0m \u001b[32m9.9/9.9 MB\u001b[0m \u001b[31m64.4 MB/s\u001b[0m eta \u001b[36m0:00:00\u001b[0m\n",
            "\u001b[?25hDownloading pydeck-0.9.1-py2.py3-none-any.whl (6.9 MB)\n",
            "\u001b[2K   \u001b[90m━━━━━━━━━━━━━━━━━━━━━━━━━━━━━━━━━━━━━━━━\u001b[0m \u001b[32m6.9/6.9 MB\u001b[0m \u001b[31m91.9 MB/s\u001b[0m eta \u001b[36m0:00:00\u001b[0m\n",
            "\u001b[?25hDownloading watchdog-6.0.0-py3-none-manylinux2014_x86_64.whl (79 kB)\n",
            "\u001b[2K   \u001b[90m━━━━━━━━━━━━━━━━━━━━━━━━━━━━━━━━━━━━━━━━\u001b[0m \u001b[32m79.1/79.1 kB\u001b[0m \u001b[31m6.3 MB/s\u001b[0m eta \u001b[36m0:00:00\u001b[0m\n",
            "\u001b[?25hInstalling collected packages: watchdog, pydeck, streamlit\n",
            "Successfully installed pydeck-0.9.1 streamlit-1.45.0 watchdog-6.0.0\n"
          ]
        }
      ],
      "source": [
        "!pip install streamlit pandas geopandas folium branca"
      ]
    },
    {
      "cell_type": "code",
      "source": [
        "!pip install streamlit_folium"
      ],
      "metadata": {
        "colab": {
          "base_uri": "https://localhost:8080/"
        },
        "id": "tirHpl7InOIs",
        "outputId": "efcbe075-3975-422c-984d-445a207e374c"
      },
      "execution_count": 2,
      "outputs": [
        {
          "output_type": "stream",
          "name": "stdout",
          "text": [
            "Collecting streamlit_folium\n",
            "  Downloading streamlit_folium-0.25.0-py3-none-any.whl.metadata (621 bytes)\n",
            "Requirement already satisfied: streamlit>=1.35.0 in /usr/local/lib/python3.11/dist-packages (from streamlit_folium) (1.45.0)\n",
            "Requirement already satisfied: folium!=0.15.0,>=0.13 in /usr/local/lib/python3.11/dist-packages (from streamlit_folium) (0.19.5)\n",
            "Requirement already satisfied: jinja2 in /usr/local/lib/python3.11/dist-packages (from streamlit_folium) (3.1.6)\n",
            "Requirement already satisfied: branca in /usr/local/lib/python3.11/dist-packages (from streamlit_folium) (0.8.1)\n",
            "Requirement already satisfied: numpy in /usr/local/lib/python3.11/dist-packages (from folium!=0.15.0,>=0.13->streamlit_folium) (2.0.2)\n",
            "Requirement already satisfied: requests in /usr/local/lib/python3.11/dist-packages (from folium!=0.15.0,>=0.13->streamlit_folium) (2.32.3)\n",
            "Requirement already satisfied: xyzservices in /usr/local/lib/python3.11/dist-packages (from folium!=0.15.0,>=0.13->streamlit_folium) (2025.4.0)\n",
            "Requirement already satisfied: MarkupSafe>=2.0 in /usr/local/lib/python3.11/dist-packages (from jinja2->streamlit_folium) (3.0.2)\n",
            "Requirement already satisfied: altair<6,>=4.0 in /usr/local/lib/python3.11/dist-packages (from streamlit>=1.35.0->streamlit_folium) (5.5.0)\n",
            "Requirement already satisfied: blinker<2,>=1.5.0 in /usr/local/lib/python3.11/dist-packages (from streamlit>=1.35.0->streamlit_folium) (1.9.0)\n",
            "Requirement already satisfied: cachetools<6,>=4.0 in /usr/local/lib/python3.11/dist-packages (from streamlit>=1.35.0->streamlit_folium) (5.5.2)\n",
            "Requirement already satisfied: click<9,>=7.0 in /usr/local/lib/python3.11/dist-packages (from streamlit>=1.35.0->streamlit_folium) (8.1.8)\n",
            "Requirement already satisfied: packaging<25,>=20 in /usr/local/lib/python3.11/dist-packages (from streamlit>=1.35.0->streamlit_folium) (24.2)\n",
            "Requirement already satisfied: pandas<3,>=1.4.0 in /usr/local/lib/python3.11/dist-packages (from streamlit>=1.35.0->streamlit_folium) (2.2.2)\n",
            "Requirement already satisfied: pillow<12,>=7.1.0 in /usr/local/lib/python3.11/dist-packages (from streamlit>=1.35.0->streamlit_folium) (11.2.1)\n",
            "Requirement already satisfied: protobuf<7,>=3.20 in /usr/local/lib/python3.11/dist-packages (from streamlit>=1.35.0->streamlit_folium) (5.29.4)\n",
            "Requirement already satisfied: pyarrow>=7.0 in /usr/local/lib/python3.11/dist-packages (from streamlit>=1.35.0->streamlit_folium) (18.1.0)\n",
            "Requirement already satisfied: tenacity<10,>=8.1.0 in /usr/local/lib/python3.11/dist-packages (from streamlit>=1.35.0->streamlit_folium) (9.1.2)\n",
            "Requirement already satisfied: toml<2,>=0.10.1 in /usr/local/lib/python3.11/dist-packages (from streamlit>=1.35.0->streamlit_folium) (0.10.2)\n",
            "Requirement already satisfied: typing-extensions<5,>=4.4.0 in /usr/local/lib/python3.11/dist-packages (from streamlit>=1.35.0->streamlit_folium) (4.13.2)\n",
            "Requirement already satisfied: watchdog<7,>=2.1.5 in /usr/local/lib/python3.11/dist-packages (from streamlit>=1.35.0->streamlit_folium) (6.0.0)\n",
            "Requirement already satisfied: gitpython!=3.1.19,<4,>=3.0.7 in /usr/local/lib/python3.11/dist-packages (from streamlit>=1.35.0->streamlit_folium) (3.1.44)\n",
            "Requirement already satisfied: pydeck<1,>=0.8.0b4 in /usr/local/lib/python3.11/dist-packages (from streamlit>=1.35.0->streamlit_folium) (0.9.1)\n",
            "Requirement already satisfied: tornado<7,>=6.0.3 in /usr/local/lib/python3.11/dist-packages (from streamlit>=1.35.0->streamlit_folium) (6.4.2)\n",
            "Requirement already satisfied: jsonschema>=3.0 in /usr/local/lib/python3.11/dist-packages (from altair<6,>=4.0->streamlit>=1.35.0->streamlit_folium) (4.23.0)\n",
            "Requirement already satisfied: narwhals>=1.14.2 in /usr/local/lib/python3.11/dist-packages (from altair<6,>=4.0->streamlit>=1.35.0->streamlit_folium) (1.37.1)\n",
            "Requirement already satisfied: gitdb<5,>=4.0.1 in /usr/local/lib/python3.11/dist-packages (from gitpython!=3.1.19,<4,>=3.0.7->streamlit>=1.35.0->streamlit_folium) (4.0.12)\n",
            "Requirement already satisfied: python-dateutil>=2.8.2 in /usr/local/lib/python3.11/dist-packages (from pandas<3,>=1.4.0->streamlit>=1.35.0->streamlit_folium) (2.9.0.post0)\n",
            "Requirement already satisfied: pytz>=2020.1 in /usr/local/lib/python3.11/dist-packages (from pandas<3,>=1.4.0->streamlit>=1.35.0->streamlit_folium) (2025.2)\n",
            "Requirement already satisfied: tzdata>=2022.7 in /usr/local/lib/python3.11/dist-packages (from pandas<3,>=1.4.0->streamlit>=1.35.0->streamlit_folium) (2025.2)\n",
            "Requirement already satisfied: charset-normalizer<4,>=2 in /usr/local/lib/python3.11/dist-packages (from requests->folium!=0.15.0,>=0.13->streamlit_folium) (3.4.1)\n",
            "Requirement already satisfied: idna<4,>=2.5 in /usr/local/lib/python3.11/dist-packages (from requests->folium!=0.15.0,>=0.13->streamlit_folium) (3.10)\n",
            "Requirement already satisfied: urllib3<3,>=1.21.1 in /usr/local/lib/python3.11/dist-packages (from requests->folium!=0.15.0,>=0.13->streamlit_folium) (2.4.0)\n",
            "Requirement already satisfied: certifi>=2017.4.17 in /usr/local/lib/python3.11/dist-packages (from requests->folium!=0.15.0,>=0.13->streamlit_folium) (2025.4.26)\n",
            "Requirement already satisfied: smmap<6,>=3.0.1 in /usr/local/lib/python3.11/dist-packages (from gitdb<5,>=4.0.1->gitpython!=3.1.19,<4,>=3.0.7->streamlit>=1.35.0->streamlit_folium) (5.0.2)\n",
            "Requirement already satisfied: attrs>=22.2.0 in /usr/local/lib/python3.11/dist-packages (from jsonschema>=3.0->altair<6,>=4.0->streamlit>=1.35.0->streamlit_folium) (25.3.0)\n",
            "Requirement already satisfied: jsonschema-specifications>=2023.03.6 in /usr/local/lib/python3.11/dist-packages (from jsonschema>=3.0->altair<6,>=4.0->streamlit>=1.35.0->streamlit_folium) (2025.4.1)\n",
            "Requirement already satisfied: referencing>=0.28.4 in /usr/local/lib/python3.11/dist-packages (from jsonschema>=3.0->altair<6,>=4.0->streamlit>=1.35.0->streamlit_folium) (0.36.2)\n",
            "Requirement already satisfied: rpds-py>=0.7.1 in /usr/local/lib/python3.11/dist-packages (from jsonschema>=3.0->altair<6,>=4.0->streamlit>=1.35.0->streamlit_folium) (0.24.0)\n",
            "Requirement already satisfied: six>=1.5 in /usr/local/lib/python3.11/dist-packages (from python-dateutil>=2.8.2->pandas<3,>=1.4.0->streamlit>=1.35.0->streamlit_folium) (1.17.0)\n",
            "Downloading streamlit_folium-0.25.0-py3-none-any.whl (328 kB)\n",
            "\u001b[2K   \u001b[90m━━━━━━━━━━━━━━━━━━━━━━━━━━━━━━━━━━━━━━━━\u001b[0m \u001b[32m328.4/328.4 kB\u001b[0m \u001b[31m5.4 MB/s\u001b[0m eta \u001b[36m0:00:00\u001b[0m\n",
            "\u001b[?25hInstalling collected packages: streamlit_folium\n",
            "Successfully installed streamlit_folium-0.25.0\n"
          ]
        }
      ]
    },
    {
      "cell_type": "code",
      "source": [
        "import requests\n",
        "import pandas as pd\n",
        "import plotly.graph_objects as go\n",
        "from sqlalchemy import create_engine\n",
        "import folium\n",
        "from folium.plugins import MarkerCluster"
      ],
      "metadata": {
        "id": "zILrkEFH6zta"
      },
      "execution_count": 3,
      "outputs": []
    },
    {
      "cell_type": "markdown",
      "source": [
        "Education Level"
      ],
      "metadata": {
        "id": "9QS7vsj5BHQl"
      }
    },
    {
      "cell_type": "markdown",
      "source": [
        "Income Level"
      ],
      "metadata": {
        "id": "WNR0w4ZBBJCo"
      }
    },
    {
      "cell_type": "markdown",
      "source": [
        "Employment"
      ],
      "metadata": {
        "id": "pliplj_JAWaq"
      }
    },
    {
      "cell_type": "markdown",
      "source": [
        "House"
      ],
      "metadata": {
        "id": "Qt7vdo-vAY7q"
      }
    },
    {
      "cell_type": "markdown",
      "source": [
        "# 2 Greate map\n"
      ],
      "metadata": {
        "id": "7GMrg_5csDOf"
      }
    },
    {
      "cell_type": "code",
      "source": [
        "!pip install pyshp simpledbf"
      ],
      "metadata": {
        "colab": {
          "base_uri": "https://localhost:8080/"
        },
        "collapsed": true,
        "id": "BYy43d6uYYjL",
        "outputId": "67062f1c-196b-420d-bada-e478b56e1734"
      },
      "execution_count": 4,
      "outputs": [
        {
          "output_type": "stream",
          "name": "stdout",
          "text": [
            "Requirement already satisfied: pyshp in /usr/local/lib/python3.11/dist-packages (2.3.1)\n",
            "Collecting simpledbf\n",
            "  Downloading simpledbf-0.2.6.tar.gz (17 kB)\n",
            "  Preparing metadata (setup.py) ... \u001b[?25l\u001b[?25hdone\n",
            "Building wheels for collected packages: simpledbf\n",
            "  Building wheel for simpledbf (setup.py) ... \u001b[?25l\u001b[?25hdone\n",
            "  Created wheel for simpledbf: filename=simpledbf-0.2.6-py3-none-any.whl size=13786 sha256=2ef665e69e381fabb0218887058c2a758cb8620e1d9f99ed0aad1d4c8e6f7e55\n",
            "  Stored in directory: /root/.cache/pip/wheels/37/52/21/14be45b7c160488637e82d6a317f4379458bb4dd60be21d5fa\n",
            "Successfully built simpledbf\n",
            "Installing collected packages: simpledbf\n",
            "Successfully installed simpledbf-0.2.6\n"
          ]
        }
      ]
    },
    {
      "cell_type": "code",
      "source": [
        "!pip install streamlit"
      ],
      "metadata": {
        "colab": {
          "base_uri": "https://localhost:8080/"
        },
        "id": "5WKrFPNAi3Mv",
        "outputId": "0cd0725e-3199-445d-85f5-bcc07ab231f0"
      },
      "execution_count": 5,
      "outputs": [
        {
          "output_type": "stream",
          "name": "stdout",
          "text": [
            "Requirement already satisfied: streamlit in /usr/local/lib/python3.11/dist-packages (1.45.0)\n",
            "Requirement already satisfied: altair<6,>=4.0 in /usr/local/lib/python3.11/dist-packages (from streamlit) (5.5.0)\n",
            "Requirement already satisfied: blinker<2,>=1.5.0 in /usr/local/lib/python3.11/dist-packages (from streamlit) (1.9.0)\n",
            "Requirement already satisfied: cachetools<6,>=4.0 in /usr/local/lib/python3.11/dist-packages (from streamlit) (5.5.2)\n",
            "Requirement already satisfied: click<9,>=7.0 in /usr/local/lib/python3.11/dist-packages (from streamlit) (8.1.8)\n",
            "Requirement already satisfied: numpy<3,>=1.23 in /usr/local/lib/python3.11/dist-packages (from streamlit) (2.0.2)\n",
            "Requirement already satisfied: packaging<25,>=20 in /usr/local/lib/python3.11/dist-packages (from streamlit) (24.2)\n",
            "Requirement already satisfied: pandas<3,>=1.4.0 in /usr/local/lib/python3.11/dist-packages (from streamlit) (2.2.2)\n",
            "Requirement already satisfied: pillow<12,>=7.1.0 in /usr/local/lib/python3.11/dist-packages (from streamlit) (11.2.1)\n",
            "Requirement already satisfied: protobuf<7,>=3.20 in /usr/local/lib/python3.11/dist-packages (from streamlit) (5.29.4)\n",
            "Requirement already satisfied: pyarrow>=7.0 in /usr/local/lib/python3.11/dist-packages (from streamlit) (18.1.0)\n",
            "Requirement already satisfied: requests<3,>=2.27 in /usr/local/lib/python3.11/dist-packages (from streamlit) (2.32.3)\n",
            "Requirement already satisfied: tenacity<10,>=8.1.0 in /usr/local/lib/python3.11/dist-packages (from streamlit) (9.1.2)\n",
            "Requirement already satisfied: toml<2,>=0.10.1 in /usr/local/lib/python3.11/dist-packages (from streamlit) (0.10.2)\n",
            "Requirement already satisfied: typing-extensions<5,>=4.4.0 in /usr/local/lib/python3.11/dist-packages (from streamlit) (4.13.2)\n",
            "Requirement already satisfied: watchdog<7,>=2.1.5 in /usr/local/lib/python3.11/dist-packages (from streamlit) (6.0.0)\n",
            "Requirement already satisfied: gitpython!=3.1.19,<4,>=3.0.7 in /usr/local/lib/python3.11/dist-packages (from streamlit) (3.1.44)\n",
            "Requirement already satisfied: pydeck<1,>=0.8.0b4 in /usr/local/lib/python3.11/dist-packages (from streamlit) (0.9.1)\n",
            "Requirement already satisfied: tornado<7,>=6.0.3 in /usr/local/lib/python3.11/dist-packages (from streamlit) (6.4.2)\n",
            "Requirement already satisfied: jinja2 in /usr/local/lib/python3.11/dist-packages (from altair<6,>=4.0->streamlit) (3.1.6)\n",
            "Requirement already satisfied: jsonschema>=3.0 in /usr/local/lib/python3.11/dist-packages (from altair<6,>=4.0->streamlit) (4.23.0)\n",
            "Requirement already satisfied: narwhals>=1.14.2 in /usr/local/lib/python3.11/dist-packages (from altair<6,>=4.0->streamlit) (1.37.1)\n",
            "Requirement already satisfied: gitdb<5,>=4.0.1 in /usr/local/lib/python3.11/dist-packages (from gitpython!=3.1.19,<4,>=3.0.7->streamlit) (4.0.12)\n",
            "Requirement already satisfied: python-dateutil>=2.8.2 in /usr/local/lib/python3.11/dist-packages (from pandas<3,>=1.4.0->streamlit) (2.9.0.post0)\n",
            "Requirement already satisfied: pytz>=2020.1 in /usr/local/lib/python3.11/dist-packages (from pandas<3,>=1.4.0->streamlit) (2025.2)\n",
            "Requirement already satisfied: tzdata>=2022.7 in /usr/local/lib/python3.11/dist-packages (from pandas<3,>=1.4.0->streamlit) (2025.2)\n",
            "Requirement already satisfied: charset-normalizer<4,>=2 in /usr/local/lib/python3.11/dist-packages (from requests<3,>=2.27->streamlit) (3.4.1)\n",
            "Requirement already satisfied: idna<4,>=2.5 in /usr/local/lib/python3.11/dist-packages (from requests<3,>=2.27->streamlit) (3.10)\n",
            "Requirement already satisfied: urllib3<3,>=1.21.1 in /usr/local/lib/python3.11/dist-packages (from requests<3,>=2.27->streamlit) (2.4.0)\n",
            "Requirement already satisfied: certifi>=2017.4.17 in /usr/local/lib/python3.11/dist-packages (from requests<3,>=2.27->streamlit) (2025.4.26)\n",
            "Requirement already satisfied: smmap<6,>=3.0.1 in /usr/local/lib/python3.11/dist-packages (from gitdb<5,>=4.0.1->gitpython!=3.1.19,<4,>=3.0.7->streamlit) (5.0.2)\n",
            "Requirement already satisfied: MarkupSafe>=2.0 in /usr/local/lib/python3.11/dist-packages (from jinja2->altair<6,>=4.0->streamlit) (3.0.2)\n",
            "Requirement already satisfied: attrs>=22.2.0 in /usr/local/lib/python3.11/dist-packages (from jsonschema>=3.0->altair<6,>=4.0->streamlit) (25.3.0)\n",
            "Requirement already satisfied: jsonschema-specifications>=2023.03.6 in /usr/local/lib/python3.11/dist-packages (from jsonschema>=3.0->altair<6,>=4.0->streamlit) (2025.4.1)\n",
            "Requirement already satisfied: referencing>=0.28.4 in /usr/local/lib/python3.11/dist-packages (from jsonschema>=3.0->altair<6,>=4.0->streamlit) (0.36.2)\n",
            "Requirement already satisfied: rpds-py>=0.7.1 in /usr/local/lib/python3.11/dist-packages (from jsonschema>=3.0->altair<6,>=4.0->streamlit) (0.24.0)\n",
            "Requirement already satisfied: six>=1.5 in /usr/local/lib/python3.11/dist-packages (from python-dateutil>=2.8.2->pandas<3,>=1.4.0->streamlit) (1.17.0)\n"
          ]
        }
      ]
    },
    {
      "cell_type": "code",
      "source": [
        "!pip install pyngrok"
      ],
      "metadata": {
        "colab": {
          "base_uri": "https://localhost:8080/"
        },
        "id": "16cgK3jAwVAZ",
        "outputId": "dc7d4f78-6e46-4f66-d17c-2f5386290c98"
      },
      "execution_count": 6,
      "outputs": [
        {
          "output_type": "stream",
          "name": "stdout",
          "text": [
            "Collecting pyngrok\n",
            "  Downloading pyngrok-7.2.5-py3-none-any.whl.metadata (8.9 kB)\n",
            "Requirement already satisfied: PyYAML>=5.1 in /usr/local/lib/python3.11/dist-packages (from pyngrok) (6.0.2)\n",
            "Downloading pyngrok-7.2.5-py3-none-any.whl (23 kB)\n",
            "Installing collected packages: pyngrok\n",
            "Successfully installed pyngrok-7.2.5\n"
          ]
        }
      ]
    },
    {
      "cell_type": "code",
      "source": [
        "!pip install openai"
      ],
      "metadata": {
        "colab": {
          "base_uri": "https://localhost:8080/"
        },
        "id": "WLVm0FE8VQ7v",
        "outputId": "493c262f-eca9-47a2-c23a-fc78175eb14a"
      },
      "execution_count": 7,
      "outputs": [
        {
          "output_type": "stream",
          "name": "stdout",
          "text": [
            "Requirement already satisfied: openai in /usr/local/lib/python3.11/dist-packages (1.76.0)\n",
            "Requirement already satisfied: anyio<5,>=3.5.0 in /usr/local/lib/python3.11/dist-packages (from openai) (4.9.0)\n",
            "Requirement already satisfied: distro<2,>=1.7.0 in /usr/local/lib/python3.11/dist-packages (from openai) (1.9.0)\n",
            "Requirement already satisfied: httpx<1,>=0.23.0 in /usr/local/lib/python3.11/dist-packages (from openai) (0.28.1)\n",
            "Requirement already satisfied: jiter<1,>=0.4.0 in /usr/local/lib/python3.11/dist-packages (from openai) (0.9.0)\n",
            "Requirement already satisfied: pydantic<3,>=1.9.0 in /usr/local/lib/python3.11/dist-packages (from openai) (2.11.3)\n",
            "Requirement already satisfied: sniffio in /usr/local/lib/python3.11/dist-packages (from openai) (1.3.1)\n",
            "Requirement already satisfied: tqdm>4 in /usr/local/lib/python3.11/dist-packages (from openai) (4.67.1)\n",
            "Requirement already satisfied: typing-extensions<5,>=4.11 in /usr/local/lib/python3.11/dist-packages (from openai) (4.13.2)\n",
            "Requirement already satisfied: idna>=2.8 in /usr/local/lib/python3.11/dist-packages (from anyio<5,>=3.5.0->openai) (3.10)\n",
            "Requirement already satisfied: certifi in /usr/local/lib/python3.11/dist-packages (from httpx<1,>=0.23.0->openai) (2025.4.26)\n",
            "Requirement already satisfied: httpcore==1.* in /usr/local/lib/python3.11/dist-packages (from httpx<1,>=0.23.0->openai) (1.0.9)\n",
            "Requirement already satisfied: h11>=0.16 in /usr/local/lib/python3.11/dist-packages (from httpcore==1.*->httpx<1,>=0.23.0->openai) (0.16.0)\n",
            "Requirement already satisfied: annotated-types>=0.6.0 in /usr/local/lib/python3.11/dist-packages (from pydantic<3,>=1.9.0->openai) (0.7.0)\n",
            "Requirement already satisfied: pydantic-core==2.33.1 in /usr/local/lib/python3.11/dist-packages (from pydantic<3,>=1.9.0->openai) (2.33.1)\n",
            "Requirement already satisfied: typing-inspection>=0.4.0 in /usr/local/lib/python3.11/dist-packages (from pydantic<3,>=1.9.0->openai) (0.4.0)\n"
          ]
        }
      ]
    },
    {
      "cell_type": "code",
      "source": [
        "%%writefile app.py\n",
        "\n",
        "import streamlit as st\n",
        "import pandas as pd\n",
        "import geopandas as gpd\n",
        "import folium\n",
        "from folium import Choropleth\n",
        "import json\n",
        "import streamlit.components.v1 as components\n",
        "from streamlit_folium import st_folium\n",
        "import matplotlib.pyplot as plt\n",
        "\n",
        "# Load your datasets here\n",
        "data = pd.read_csv(\"/content/indexes_dataset.csv\")\n",
        "manual_mapping = pd.read_csv(\"/content/Completed_FineNeighborhood_to_CommunityAreaName.csv\")\n",
        "metadata = pd.read_csv(\"/content/indexes_metadata.csv\")\n",
        "feature_metadata = pd.read_csv(\"/content/metadata_with_index.csv\")\n",
        "index_metadata = pd.read_csv(\"/content/indexe_metadata.csv\")\n",
        "\n",
        "# Load local GeoJSON file\n",
        "with open(\"/content/chicago_neighborhoods.geojson\", \"r\", encoding=\"utf-8\") as f:\n",
        "    geojson_data = json.load(f)\n",
        "\n",
        "# Index options and their factors\n",
        "index_factors = {\n",
        "    \"wellness_index\": [\"EVI\",\"SSI\",\"EOI\",\"CARDIO\", \"DIABETES\", \"RESPIR\", \"MHDIS\", \"CURSMOKE\", \"BINGEDRINK\", \"DRUGOD\", \"PHYINACT\"],\n",
        "    \"EVI\": [\"AIRQUAL\", \"WATQUAL\", \"HEATVUL\", \"NOISEP\"],\n",
        "    \"SSI\": [\"SCHLRAT\", \"HSDROP\", \"UNEMPLOY\", \"MEDINC\"],\n",
        "    \"EOI\": [\"HOUSPRB\", \"HOUSBURD\", \"BROADND\", \"TRAFVOL\", \"COLLACC\"]\n",
        "}\n",
        "\n",
        "# Sidebar selections\n",
        "st.set_page_config(layout=\"wide\")\n",
        "st.sidebar.title(\"Index Configuration\")\n",
        "selected_index = st.sidebar.selectbox(\"Select Index\", list(index_factors.keys()))\n",
        "st.sidebar.subheader(\"Index Description\")\n",
        "index_description = metadata[metadata['index_name'] == selected_index]['description'].values\n",
        "st.markdown(\n",
        "    \"\"\"\n",
        "    <style>\n",
        "        [data-testid=\"stSidebar\"] {\n",
        "            min-width: 400px;\n",
        "            max-width: 400px;\n",
        "        }\n",
        "    </style>\n",
        "    \"\"\",\n",
        "    unsafe_allow_html=True\n",
        ")\n",
        "\n",
        "with st.sidebar.expander(\"ℹ️ Index Description\", expanded=False):\n",
        "    if len(index_description):\n",
        "        st.markdown(\n",
        "            f\"<div style='font-size: 12px; text-align: justify;'>{index_description[0]}</div>\",\n",
        "            unsafe_allow_html=True\n",
        "        )\n",
        "    else:\n",
        "        st.markdown(\"_No index-level description found._\")\n",
        "\n",
        "selected_factors = index_factors[selected_index]\n",
        "\n",
        "with st.sidebar.expander(\"🧪 Factor Descriptions\", expanded=True):\n",
        "    rows = \"\"\n",
        "    for factor in selected_factors:\n",
        "        desc_row = metadata[metadata['index_name'] == factor]['description'].values\n",
        "        desc_text = desc_row[0] if len(desc_row) else \"(No description found)\"\n",
        "        rows += f\"<tr><td><strong>{factor}</strong></td><td>{desc_text}</td></tr>\"\n",
        "\n",
        "    table_html = f\"\"\"\n",
        "    <div style='font-size: 11px;text-align: justify;'>\n",
        "        <table style='width: 100%; border-collapse: collapse;'>\n",
        "            {rows}\n",
        "        </table>\n",
        "    </div>\n",
        "    \"\"\"\n",
        "    st.markdown(table_html, unsafe_allow_html=True)\n",
        "\n",
        "# Load GeoDataFrame\n",
        "gdf_raw = gpd.GeoDataFrame.from_features(geojson_data[\"features\"])\n",
        "gdf_raw = gdf_raw.rename(columns={\"pri_neigh\": \"FineNeighborhood\"})\n",
        "gdf_raw.set_crs(epsg=4326, inplace=True)\n",
        "\n",
        "# Merge with manual mapping to get CommunityAreaName\n",
        "gdf = gdf_raw.merge(manual_mapping, on=\"FineNeighborhood\", how=\"left\")\n",
        "\n",
        "# Merge with index data\n",
        "gdf = gdf.merge(data, on=\"CommunityAreaName\", how=\"left\")\n",
        "\n",
        "# Ensure the CommunityAreaName exists in GeoJSON for rendering\n",
        "gdf[\"CommunityAreaName\"] = gdf[\"CommunityAreaName\"].fillna(\"Unknown\")\n",
        "\n",
        "# Function to render map\n",
        "def render_map(gdf, column, title):\n",
        "    m = folium.Map(location=[41.8781, -87.6298], zoom_start=10, height=600)\n",
        "\n",
        "    # Workaround: add CommunityAreaName to each feature property before converting to JSON\n",
        "    gdf_json = json.loads(gdf.to_json())\n",
        "    for idx, feature in enumerate(gdf_json[\"features\"]):\n",
        "        feature[\"properties\"][\"CommunityAreaName\"] = gdf.iloc[idx][\"CommunityAreaName\"]\n",
        "\n",
        "    Choropleth(\n",
        "        geo_data=gdf_json,\n",
        "        name=\"choropleth\",\n",
        "        data=gdf,\n",
        "        columns=[\"CommunityAreaName\", column],\n",
        "        key_on=\"feature.properties.CommunityAreaName\",\n",
        "        fill_color=\"YlOrRd\",\n",
        "        fill_opacity=0.7,\n",
        "        line_opacity=0.2,\n",
        "        legend_name=title,\n",
        "        highlight=True,\n",
        "        nan_fill_color='gray'\n",
        "    ).add_to(m)\n",
        "\n",
        "    def style_function(feature):\n",
        "        return {'fillColor': 'transparent','color': 'black','weight': 1,'fillOpacity': 0}\n",
        "\n",
        "    def highlight_function(feature):\n",
        "        return {'fillColor': '#ffff00','color': 'black','weight': 2,'fillOpacity': 0.3}\n",
        "\n",
        "    tooltip_data = []\n",
        "    for _, row in gdf.iterrows():\n",
        "        name = row[\"CommunityAreaName\"]\n",
        "        value = row[column]\n",
        "        value_str = f\"{value:.2f}\" if pd.notna(value) else \"No data\"\n",
        "        tooltip_data.append({\"tooltip\": f\"{name}  {value_str}\"})\n",
        "\n",
        "    tooltip_gdf = gdf.copy()\n",
        "    tooltip_gdf[\"tooltip\"] = [d[\"tooltip\"] for d in tooltip_data]\n",
        "    tooltip_gdf.set_crs(epsg=4326, inplace=True)\n",
        "\n",
        "    folium.GeoJson(\n",
        "        tooltip_gdf,\n",
        "        name=\"Neighborhood Borders\",\n",
        "        style_function=style_function,\n",
        "        highlight_function=highlight_function,\n",
        "        tooltip=folium.GeoJsonTooltip(fields=[\"tooltip\"], aliases=[\"Community: \"])\n",
        "    ).add_to(m)\n",
        "\n",
        "    return m\n",
        "\n",
        "\n",
        "# Main layout\n",
        "st.markdown(\"\"\"\n",
        "    <style>\n",
        "        iframe[title=\"streamlit_folium.st_folium\"] {\n",
        "            height: 600px !important;\n",
        "            max-height: 600px !important;\n",
        "            overflow: hidden;\n",
        "        }\n",
        "    </style>\n",
        "\"\"\", unsafe_allow_html=True)\n",
        "with st.container():\n",
        "  st.title(\"Chicago Neighborhood Dashboard\")\n",
        "  st.markdown(f\"#### Main Map: {selected_index}\")\n",
        "  main_map = render_map(gdf, selected_index, selected_index)\n",
        "  st_folium(main_map, use_container_width=True,height=600)\n",
        "\n",
        "# Panel maps with factor selectors on top\n",
        "col1, col2 = st.columns(2)\n",
        "with col1:\n",
        "    st.markdown(\"<h4 style='text-align: center;'>Panel 1</h4>\", unsafe_allow_html=True)\n",
        "    st.markdown(\"<div style='font-size: 13px; color: gray;text-align: center;'>Select Panel 1 Factor</div>\", unsafe_allow_html=True)\n",
        "    factor1 = st.selectbox(\"\", selected_factors, key=\"panel1\")\n",
        "    st.markdown(f\"#### {factor1}\")\n",
        "    panel1_map_html = render_map(gdf, factor1, factor1)\n",
        "    st_folium(panel1_map_html, use_container_width=True)\n",
        "\n",
        "with col2:\n",
        "    st.markdown(\"<h4 style='text-align: center;'>Panel 2</h4>\", unsafe_allow_html=True)\n",
        "    st.markdown(\"<div style='font-size: 13px; color: gray;text-align: center;'>Select Panel 2 Factor</div>\", unsafe_allow_html=True)\n",
        "    remaining_factors = [f for f in selected_factors if f != st.session_state.panel1]\n",
        "    factor2 = st.selectbox(\"\", remaining_factors, key=\"panel2\")\n",
        "    st.markdown(f\"#### {factor2}\")\n",
        "    panel2_map_html = render_map(gdf, factor2, factor2)\n",
        "    st_folium(panel2_map_html, use_container_width=True)\n",
        "\n",
        "#Statistic Map\n",
        "feature_desc = dict(zip(feature_metadata['column_name'], feature_metadata['description']))\n",
        "index_desc = dict(zip(index_metadata['index_name'], index_metadata['index_description']))\n",
        "\n",
        "def get_stats(data):\n",
        "    return {'Min': data.min(), 'Q1': data.quantile(0.25), 'Mean': data.mean(), 'Q3': data.quantile(0.75), 'Max': data.max()}\n",
        "\n",
        "def plot_full_stats(ax, data, title, chart_type='bar'):\n",
        "    stats = get_stats(data)\n",
        "    metrics, values = list(stats.keys()), list(stats.values())\n",
        "    colors = ['#1f77b4', '#ff7f0e', '#2ca02c', '#d62728', '#9467bd']\n",
        "    if chart_type == 'bar':\n",
        "        bars = ax.bar(metrics, values, color=colors)\n",
        "        for bar in bars:\n",
        "            ax.text(bar.get_x() + bar.get_width() / 2, bar.get_height(), f\"{bar.get_height():.2f}\", ha='center', va='bottom')\n",
        "    elif chart_type == 'box':\n",
        "        ax.boxplot(data, vert=False, patch_artist=True, boxprops=dict(facecolor='#2ca02c'))\n",
        "        stats_text = \"\\n\".join([f\"{k}: {v:.2f}\" for k, v in stats.items()])\n",
        "        ax.text(0.95, 0.95, stats_text, transform=ax.transAxes, ha='right', va='top', bbox=dict(facecolor='white', alpha=0.8))\n",
        "        ax.set_yticks([])\n",
        "    ax.set_title(title, fontsize=12)\n",
        "    ax.grid(True, linestyle='--', alpha=0.7)\n",
        "\n",
        "def plot_dual_comparison(ax, feature_data, index_data, feature_name, index_name):\n",
        "    feature_stats, index_stats = get_stats(feature_data), get_stats(index_data)\n",
        "    metrics, colors = list(feature_stats.keys()), ['#1f77b4', '#ff7f0e', '#2ca02c', '#d62728', '#9467bd']\n",
        "    bars = ax.bar(metrics, feature_stats.values(), color=colors, alpha=0.7)\n",
        "    ax2 = ax.twinx()\n",
        "    line, = ax2.plot(metrics, index_stats.values(), color='black', marker='o', linewidth=2)\n",
        "    ax.set_title(f\"{feature_name} vs {index_name}\", fontsize=12)\n",
        "    ax.legend([bars[0], line], [feature_name, index_name], loc='upper left')\n",
        "\n",
        "st.header(\"Feature Distributions\")\n",
        "box1, box2 = st.columns(2)\n",
        "with box1:\n",
        "    fig2, ax2 = plt.subplots(figsize=(8, 4))\n",
        "    plot_full_stats(ax2, data[factor1], f\"{factor1}\\n{feature_desc.get(factor1, factor1)}\", chart_type='box')\n",
        "    st.pyplot(fig2)\n",
        "\n",
        "with box2:\n",
        "    fig3, ax3 = plt.subplots(figsize=(8, 4))\n",
        "    plot_full_stats(ax3, data[factor2], f\"{factor2}\\n{feature_desc.get(factor2, factor2)}\", chart_type='box')\n",
        "    st.pyplot(fig3)\n",
        "\n",
        "st.header(\"Feature vs Index Comparison\")\n",
        "comp1, comp2 = st.columns(2)\n",
        "with comp1:\n",
        "    fig4, ax4 = plt.subplots(figsize=(10, 5))\n",
        "    plot_dual_comparison(ax4, data[factor1], data[selected_index], factor1, selected_index)\n",
        "    st.pyplot(fig4)\n",
        "\n",
        "with comp2:\n",
        "    fig5, ax5 = plt.subplots(figsize=(10, 5))\n",
        "    plot_dual_comparison(ax5, data[factor2], data[selected_index], factor2, selected_index)\n",
        "    st.pyplot(fig5)\n",
        "#Community Data ChatBot\n",
        "st.markdown(\"---\")\n",
        "st.header(\"💬 Community Data Chatbot\")\n",
        "def auto_detect_column(df, keyword):\n",
        "    return [col for col in df.columns if keyword.lower() in col.lower()][0]\n",
        "\n",
        "\n",
        "def map_full_name_to_shortcut(user_input):\n",
        "    user_input_lower = user_input.lower()\n",
        "    desc_col = auto_detect_column(feature_metadata, 'description')\n",
        "    name_col = auto_detect_column(feature_metadata, 'name')\n",
        "\n",
        "    for _, row in feature_metadata.iterrows():\n",
        "        if str(row[desc_col]).lower() in user_input_lower:\n",
        "            return row[name_col]\n",
        "    for _, row in feature_metadata.iterrows():\n",
        "        if str(row[name_col]).lower() in user_input_lower:\n",
        "            return row[name_col]\n",
        "    return None\n",
        "\n",
        "\n",
        "def search_answer(user_input):\n",
        "    user_input_lower = user_input.lower()\n",
        "    index_name_col = auto_detect_column(index_metadata, 'name')\n",
        "    index_desc_col = auto_detect_column(index_metadata, 'description')\n",
        "    feature_name_col = auto_detect_column(feature_metadata, 'name')\n",
        "    feature_desc_col = auto_detect_column(feature_metadata, 'description')\n",
        "\n",
        "    # --- Check for maximum ---\n",
        "    if any(keyword in user_input_lower for keyword in ['highest', 'maximum', '最大', '最高']):\n",
        "        shortcut_col = map_full_name_to_shortcut(user_input)\n",
        "        if shortcut_col and shortcut_col in data.columns:\n",
        "            neighborhood_col = auto_detect_column(data, 'community') if any(\n",
        "                'community' in c.lower() for c in data.columns) else auto_detect_column(data, 'neigh')\n",
        "            max_row = data.loc[data[shortcut_col].idxmax()]\n",
        "            neighborhood_name = max_row[neighborhood_col]\n",
        "            max_value = max_row[shortcut_col]\n",
        "            return f\"🏆 Among all communities, **{neighborhood_name}** has the highest **{shortcut_col}**, with a value of {max_value:.2f}.\"\n",
        "\n",
        "    # --- Check for average ---\n",
        "    if any(keyword in user_input_lower for keyword in ['average', 'mean', '平均']):\n",
        "        shortcut_col = map_full_name_to_shortcut(user_input)\n",
        "        if shortcut_col and shortcut_col in data.columns:\n",
        "            avg_value = data[shortcut_col].mean()\n",
        "            return f\"📊 The average value of **{shortcut_col}** is {avg_value:.2f}.\"\n",
        "\n",
        "    # --- Check for definition ---\n",
        "    for _, row in index_metadata.iterrows():\n",
        "        if str(row[index_name_col]).lower() in user_input_lower:\n",
        "            return f\"📈 {row[index_name_col]}: {row[index_desc_col]}\"\n",
        "\n",
        "    for _, row in feature_metadata.iterrows():\n",
        "        if str(row[feature_name_col]).lower() in user_input_lower:\n",
        "            return f\"🔎 {row[feature_name_col]}: {row[feature_desc_col]}\"\n",
        "\n",
        "    return \"❓ Sorry, I couldn't understand your question. Please try asking differently.\"\n",
        "\n",
        "\n",
        "st.markdown(\"\"\"\n",
        "    <style>\n",
        "    .chat-bubble {\n",
        "      background-color: #f0f2f6;\n",
        "      padding: 12px;\n",
        "      border-radius: 10px;\n",
        "      margin-bottom: 10px;\n",
        "      display: inline-block;\n",
        "      max-width: 90%;\n",
        "      color: black;\n",
        "    }\n",
        "    .user-bubble {\n",
        "      background-color: #d1e7dd;\n",
        "      text-align: right;\n",
        "      margin-left: auto;\n",
        "      color: black;\n",
        "    }\n",
        "    </style>\n",
        "    \"\"\", unsafe_allow_html=True)\n",
        "\n",
        "user_input = st.text_input(\"Enter your question (e.g., Which community has the highest HOUSPRB?):\",\n",
        "                            key=\"chatbot_input\")\n",
        "\n",
        "if user_input:\n",
        "    st.markdown(f'<div class=\"chat-bubble user-bubble\">{user_input}</div>', unsafe_allow_html=True)\n",
        "    response = search_answer(user_input)\n",
        "    st.markdown(f'<div class=\"chat-bubble\">{response}</div>', unsafe_allow_html=True)"
      ],
      "metadata": {
        "colab": {
          "base_uri": "https://localhost:8080/"
        },
        "id": "iXFCHksdufwR",
        "outputId": "2e07e39c-95ab-4f2e-86b2-bc2ae12164cf"
      },
      "execution_count": 8,
      "outputs": [
        {
          "output_type": "stream",
          "name": "stdout",
          "text": [
            "Writing app.py\n"
          ]
        }
      ]
    },
    {
      "cell_type": "code",
      "source": [
        "# 设置 ngrok authtoken\n",
        "from pyngrok import ngrok\n",
        "ngrok.set_auth_token(\"2vh8RdP8gH4DZ4IPG49jCTHtQkD_8766JsxXk3kHKzYxUJxY6\")\n",
        "\n",
        "# 启动 ngrok 隧道映射本地 8501 端口\n",
        "public_url = ngrok.connect(\"8501\")\n",
        "print(\"Streamlit app public URL:\", public_url)"
      ],
      "metadata": {
        "colab": {
          "base_uri": "https://localhost:8080/"
        },
        "id": "3W-nmqdSkfzr",
        "outputId": "1de61964-6b7d-43fe-8b5f-13744fe25321"
      },
      "execution_count": 9,
      "outputs": [
        {
          "output_type": "stream",
          "name": "stdout",
          "text": [
            "Streamlit app public URL: NgrokTunnel: \"https://5004-34-16-44-110.ngrok-free.app\" -> \"http://localhost:8501\"\n"
          ]
        }
      ]
    },
    {
      "cell_type": "code",
      "source": [
        "# 在后台启动 Streamlit 应用\n",
        "!streamlit run app.py &"
      ],
      "metadata": {
        "colab": {
          "base_uri": "https://localhost:8080/"
        },
        "id": "Ykdjoqv2n_Ot",
        "outputId": "1d36a9d5-0100-449f-fe43-bcb85a7430a4"
      },
      "execution_count": 10,
      "outputs": [
        {
          "output_type": "stream",
          "name": "stdout",
          "text": [
            "\n",
            "Collecting usage statistics. To deactivate, set browser.gatherUsageStats to false.\n",
            "\u001b[0m\n",
            "\u001b[0m\n",
            "\u001b[34m\u001b[1m  You can now view your Streamlit app in your browser.\u001b[0m\n",
            "\u001b[0m\n",
            "\u001b[34m  Local URL: \u001b[0m\u001b[1mhttp://localhost:8501\u001b[0m\n",
            "\u001b[34m  Network URL: \u001b[0m\u001b[1mhttp://172.28.0.12:8501\u001b[0m\n",
            "\u001b[34m  External URL: \u001b[0m\u001b[1mhttp://34.16.44.110:8501\u001b[0m\n",
            "\u001b[0m\n",
            "2025-05-04 20:40:36.627 `label` got an empty value. This is discouraged for accessibility reasons and may be disallowed in the future by raising an exception. Please provide a non-empty label and hide it with label_visibility if needed.\n",
            "2025-05-04 20:40:39.766 `label` got an empty value. This is discouraged for accessibility reasons and may be disallowed in the future by raising an exception. Please provide a non-empty label and hide it with label_visibility if needed.\n",
            "2025-05-04 20:40:47.876 `label` got an empty value. This is discouraged for accessibility reasons and may be disallowed in the future by raising an exception. Please provide a non-empty label and hide it with label_visibility if needed.\n",
            "2025-05-04 20:40:50.860 `label` got an empty value. This is discouraged for accessibility reasons and may be disallowed in the future by raising an exception. Please provide a non-empty label and hide it with label_visibility if needed.\n",
            "2025-05-04 20:40:59.304 `label` got an empty value. This is discouraged for accessibility reasons and may be disallowed in the future by raising an exception. Please provide a non-empty label and hide it with label_visibility if needed.\n",
            "2025-05-04 20:41:02.572 `label` got an empty value. This is discouraged for accessibility reasons and may be disallowed in the future by raising an exception. Please provide a non-empty label and hide it with label_visibility if needed.\n",
            "\u001b[34m  Stopping...\u001b[0m\n"
          ]
        }
      ]
    }
  ]
}